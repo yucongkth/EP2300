{
 "cells": [
  {
   "cell_type": "code",
   "execution_count": 24,
   "metadata": {},
   "outputs": [
    {
     "name": "stdout",
     "output_type": "stream",
     "text": [
      "Coefficients: [[-2.66e-02 -1.03e-02  3.54e-06 -6.80e-04  3.50e-03  5.91e-03 -3.11e-05\n",
      "   5.58e-04 -8.51e-03]]\n",
      "Intercept: [3.85e-05]\n"
     ]
    }
   ],
   "source": [
    "# Qusetion 1: Model training \n",
    "\n",
    "import numpy as np\n",
    "import pandas as pd\n",
    "from sklearn import linear_model\n",
    "from sklearn.model_selection import train_test_split\n",
    "\n",
    "# Read X,Y traces into pandas DataFrames named X,Y\n",
    "X=pd.read_csv('X.csv')\n",
    "Y=pd.read_csv('Y.csv')\n",
    "\n",
    "Y['meet_SLA']=Y['DispFrames']>=18\n",
    "sum=Y['meet_SLA']\n",
    "Y['meet_SLA']=Y['meet_SLA']*1\n",
    "XY = pd.concat([X.iloc[:,1:10], Y['meet_SLA'], Y['DispFrames']], axis=1)\n",
    "\n",
    "# Split XY into training set and test set\n",
    "train, test = train_test_split(XY, test_size = 0.3)\n",
    "X_train = train.iloc[:,0:9]; X_test = test.iloc[:,0:9]\n",
    "Y_train = train.iloc[:,9]; Y_test = test.iloc[:,9]\n",
    "                \n",
    "#train the model\n",
    "logreg = linear_model.LogisticRegression(C=1e5)\n",
    "logreg.fit(X_train, Y_train)\n",
    "\n",
    "\n",
    "#ptint the model coefficients\n",
    "np.set_printoptions(precision=2)\n",
    "print(\"Coefficients:\", logreg.coef_)\n",
    "print(\"Intercept:\", logreg.intercept_)"
   ]
  },
  {
   "cell_type": "code",
   "execution_count": 18,
   "metadata": {},
   "outputs": [
    {
     "name": "stdout",
     "output_type": "stream",
     "text": [
      "[[450  42]\n",
      " [ 44 544]]\n",
      "classification error is 0.080 \n"
     ]
    },
    {
     "data": {
      "image/png": "[encoded data removed]",
      "text/plain": [
       "<Figure size 432x288 with 1 Axes>"
      ]
     },
     "metadata": {},
     "output_type": "display_data"
    }
   ],
   "source": [
    "# Question 2: compute the classidication error \n",
    "\n",
    "import matplotlib.pyplot as plt\n",
    "from sklearn.metrics import confusion_matrix\n",
    "\n",
    "Y_pred=logreg.predict(X_test)\n",
    "cm=confusion_matrix(Y_test,Y_pred)\n",
    "print(cm)\n",
    "\n",
    "#compute error\n",
    "ERR=1-(cm[0,0]+cm[1,1])/float(Y_test.count())\n",
    "print(\"classification error is %.3f \"%ERR)\n",
    "\n",
    "#plot\n",
    "plt.clf()\n",
    "plt.imshow(cm,interpolation='nearest',cmap=plt.cm.Wistia)\n",
    "classNames=['Nagative','Positive']\n",
    "plt.title('Confusion Matrix')\n",
    "plt.ylabel('True label')\n",
    "plt.xlabel('Predicted label')\n",
    "tick_marks = np.arange(len(classNames))\n",
    "plt.xticks(tick_marks, classNames, rotation=45)\n",
    "plt.yticks(tick_marks, classNames)\n",
    "s = [['TN','FP'], ['FN', 'TP']]\n",
    "for i in range(2):\n",
    "    for j in range(2):\n",
    "        plt.text(j,i, str(s[i][j])+\" = \"+str(cm[i][j]))\n",
    "plt.show()"
   ]
  },
  {
   "cell_type": "code",
   "execution_count": 19,
   "metadata": {},
   "outputs": [
    {
     "name": "stdout",
     "output_type": "stream",
     "text": [
      "the fraction of Y values that comform with the SLA on the training set is 0.527\n",
      "the classfication error for the naive classfier on the test set is 0.498\n"
     ]
    }
   ],
   "source": [
    "#question 3\n",
    "\n",
    "#compute p\n",
    "p=Y_train[Y_train==1].count()/float(Y_train.count())\n",
    "print('the fraction of Y values which conform with the SLA on the training set is %.3f' %p)\n",
    "\n",
    "#compute the correct prediction\n",
    "true_count=Y_test[Y_test==1].count()\n",
    "false_count=Y_test[Y_test==0].count()\n",
    "C_pre= true_count * p + false_count * (1-p)\n",
    "\n",
    "#compute the classification error \n",
    "C_err=1- C_pre/float(Y_test.count())\n",
    "print('the classification error for the naive classifier on the test set is %.3f' %C_err)"
   ]
  },
  {
   "cell_type": "code",
   "execution_count": 20,
   "metadata": {},
   "outputs": [
    {
     "name": "stdout",
     "output_type": "stream",
     "text": [
      "[[448  44]\n",
      " [ 37 551]]\n",
      "classification error of linear model is 0.075 \n"
     ]
    }
   ],
   "source": [
    "#question 4\n",
    "Y_linear_train = train.iloc[:,10]\n",
    "X_linear_train=X_train\n",
    "# Create linear regression object\n",
    "regr = linear_model.LinearRegression()\n",
    "\n",
    "# Train the model using the training set\n",
    "regr.fit(X_linear_train, Y_linear_train)\n",
    "\n",
    "Y_linear_pre=pd.Series(regr.predict(X_test))\n",
    "Y_linear_SLA=Y_linear_pre>=18 \n",
    "Y_linear_SLA=Y_linear_SLA*1\n",
    "\n",
    "#calculate confusion matrix\n",
    "cm=confusion_matrix(Y_test,Y_linear_SLA)\n",
    "print(cm)\n",
    "\n",
    "#calculate error\n",
    "ERR=1-(cm[0,0]+cm[1,1])/float(Y_test.count())\n",
    "print(\"classification error of linear model is %.3f \"%ERR)"
   ]
  },
  {
   "cell_type": "code",
   "execution_count": null,
   "metadata": {},
   "outputs": [],
   "source": []
  }
 ],
 "metadata": {
  "kernelspec": {
   "display_name": "Python 3",
   "language": "python",
   "name": "python3"
  },
  "language_info": {
   "codemirror_mode": {
    "name": "ipython",
    "version": 3
   },
   "file_extension": ".py",
   "mimetype": "text/x-python",
   "name": "python",
   "nbconvert_exporter": "python",
   "pygments_lexer": "ipython3",
   "version": "3.6.5"
  }
 },
 "nbformat": 4,
 "nbformat_minor": 2
}
