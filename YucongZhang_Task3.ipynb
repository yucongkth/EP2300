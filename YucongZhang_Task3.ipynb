{
 "cells": [
  {
   "cell_type": "code",
   "execution_count": 5,
   "metadata": {},
   "outputs": [
    {
     "name": "stdout",
     "output_type": "stream",
     "text": [
      "Coefficients: [[-1.40e-02 -5.72e-03 -9.61e-06 -9.12e-03  1.45e-01  2.00e-03 -1.08e-04\n",
      "   5.75e-02 -5.97e-02]]\n",
      "Intercept: [0.]\n"
     ]
    }
   ],
   "source": [
    "# Qusetion 1: Model training \n",
    "\n",
    "import numpy as np\n",
    "import pandas as pd\n",
    "from sklearn import linear_model\n",
    "from sklearn.model_selection import train_test_split\n",
    "\n",
    "# Read X,Y traces into pandas DataFrames named X,Y\n",
    "X=pd.read_csv('X.csv')\n",
    "Y=pd.read_csv('Y.csv')\n",
    "\n",
    "Y['meet_SLA']=Y['DispFrames']>=18\n",
    "sum=Y['meet_SLA']\n",
    "Y['meet_SLA']=Y['meet_SLA']*1\n",
    "XY = pd.concat([X.iloc[:,1:10], Y['meet_SLA'], Y['DispFrames']], axis=1)\n",
    "\n",
    "# Split XY into training set and test set\n",
    "train, test = train_test_split(XY, test_size = 0.3)\n",
    "X_train = train.iloc[:,0:9]; X_test = test.iloc[:,0:9]\n",
    "Y_train = train.iloc[:,9]; Y_test = test.iloc[:,9]\n",
    "                \n",
    "#train the model\n",
    "logreg = linear_model.LogisticRegression(C=1e5)\n",
    "logreg.fit(X_train, Y_train)\n",
    "\n",
    "\n",
    "#ptint the model coefficients\n",
    "np.set_printoptions(precision=2)\n",
    "print(\"Coefficients:\", logreg.coef_)\n",
    "print(\"Intercept:\", logreg.intercept_)"
   ]
  },
  {
   "cell_type": "code",
   "execution_count": 6,
   "metadata": {},
   "outputs": [
    {
     "name": "stdout",
     "output_type": "stream",
     "text": [
      "[[459  47]\n",
      " [ 48 526]]\n",
      "classification error is 0.088 \n"
     ]
    },
    {
     "data": {
      "image/png": "[encoded data removed]",
      "text/plain": [
       "<Figure size 432x288 with 1 Axes>"
      ]
     },
     "metadata": {},
     "output_type": "display_data"
    }
   ],
   "source": [
    "# Question 2: compute the classidication error \n",
    "\n",
    "import matplotlib.pyplot as plt\n",
    "from sklearn.metrics import confusion_matrix\n",
    "\n",
    "Y_pred=logreg.predict(X_test)\n",
    "cm=confusion_matrix(Y_test,Y_pred)\n",
    "print(cm)\n",
    "\n",
    "#compute error\n",
    "ERR=1-(cm[0,0]+cm[1,1])/float(Y_test.count())\n",
    "print(\"classification error is %.3f \"%ERR)\n",
    "\n",
    "#plot\n",
    "plt.clf()\n",
    "plt.imshow(cm,interpolation='nearest',cmap=plt.cm.Wistia)\n",
    "classNames=['Nagative','Positive']\n",
    "plt.title('Confusion Matrix')\n",
    "plt.ylabel('True label')\n",
    "plt.xlabel('Predicted label')\n",
    "tick_marks = np.arange(len(classNames))\n",
    "plt.xticks(tick_marks, classNames, rotation=45)\n",
    "plt.yticks(tick_marks, classNames)\n",
    "s = [['TN','FP'], ['FN', 'TP']]\n",
    "for i in range(2):\n",
    "    for j in range(2):\n",
    "        plt.text(j,i, str(s[i][j])+\" = \"+str(cm[i][j]))\n",
    "plt.show()"
   ]
  },
  {
   "cell_type": "code",
   "execution_count": 7,
   "metadata": {},
   "outputs": [
    {
     "name": "stdout",
     "output_type": "stream",
     "text": [
      "the fraction of Y values which conform with the SLA on the training set is 0.533\n",
      "the classification error for the naive classifier on the test set is 0.498\n"
     ]
    }
   ],
   "source": [
    "#question 3\n",
    "\n",
    "#compute p\n",
    "p=Y_train[Y_train==1].count()/float(Y_train.count())\n",
    "print('the fraction of Y values which conform with the SLA on the training set is %.3f' %p)\n",
    "\n",
    "#compute the correct prediction\n",
    "true_count=Y_test[Y_test==1].count()\n",
    "false_count=Y_test[Y_test==0].count()\n",
    "C_pre= true_count * p + false_count * (1-p)\n",
    "\n",
    "#compute the classification error \n",
    "C_err=1- C_pre/float(Y_test.count())\n",
    "print('the classification error for the naive classifier on the test set is %.3f' %C_err)"
   ]
  },
  {
   "cell_type": "code",
   "execution_count": 8,
   "metadata": {},
   "outputs": [
    {
     "name": "stdout",
     "output_type": "stream",
     "text": [
      "classification error of linear model is 0.084 \n"
     ]
    }
   ],
   "source": [
    "#question 4\n",
    "Y_linear_train = train.iloc[:,10]\n",
    "X_linear_train=X_train\n",
    "# Create linear regression object\n",
    "regr = linear_model.LinearRegression()\n",
    "\n",
    "# Train the model using the training set\n",
    "regr.fit(X_linear_train, Y_linear_train)\n",
    "\n",
    "Y_linear_pre=pd.Series(regr.predict(X_test))\n",
    "Y_linear_SLA=Y_linear_pre>=18 \n",
    "Y_linear_SLA=Y_linear_SLA*1\n",
    "\n",
    "#calculate confusion matrix\n",
    "cm=confusion_matrix(Y_test,Y_linear_SLA)\n",
    "#print(cm)\n",
    "\n",
    "#calculate error\n",
    "ERR=1-(cm[0,0]+cm[1,1])/float(Y_test.count())\n",
    "print(\"classification error of linear model is %.3f \"%ERR)"
   ]
  },
  {
   "cell_type": "code",
   "execution_count": null,
   "metadata": {},
   "outputs": [],
   "source": [
    "#nmae: 15 nmae=0.1 表示真实值在15 的10%之内\n",
    "#classification error 0.084 表示1000个里面会有84个错误\n",
    "#logistic 和 linear 比较：varrance很大的话 logistic好一些， varrance不大的话 linear好一些\n",
    "#True Positive （真正, TP）被模型预测为正的正样本；可以称作判断为真的正确率\n",
    "\n",
    "#True Negative（真负 , TN）被模型预测为负的负样本 ；可以称作判断为假的正确率\n",
    "\n",
    "#False Positive （假正, FP）被模型预测为正的负样本；可以称作误报率\n",
    "\n",
    "#False Negative（假负 , FN）被模型预测为负的正样本；可以称作漏报率\n",
    "#bios: 真实值与预测值的差别大小 RF的bios小 linear的BIOS大一些\n",
    "#variance:值的离散程度 RF较大，linear较小"
   ]
  }
 ],
 "metadata": {
  "kernelspec": {
   "display_name": "Python 3",
   "language": "python",
   "name": "python3"
  },
  "language_info": {
   "codemirror_mode": {
    "name": "ipython",
    "version": 3
   },
   "file_extension": ".py",
   "mimetype": "text/x-python",
   "name": "python",
   "nbconvert_exporter": "python",
   "pygments_lexer": "ipython3",
   "version": "3.6.5"
  }
 },
 "nbformat": 4,
 "nbformat_minor": 2
}
